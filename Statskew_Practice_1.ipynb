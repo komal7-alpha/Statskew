{
  "nbformat": 4,
  "nbformat_minor": 0,
  "metadata": {
    "colab": {
      "provenance": [],
      "authorship_tag": "ABX9TyOdvQ6k+tuaEQakZVgnn/s0",
      "include_colab_link": true
    },
    "kernelspec": {
      "name": "python3",
      "display_name": "Python 3"
    },
    "language_info": {
      "name": "python"
    }
  },
  "cells": [
    {
      "cell_type": "markdown",
      "metadata": {
        "id": "view-in-github",
        "colab_type": "text"
      },
      "source": [
        "<a href=\"https://colab.research.google.com/github/komal7-alpha/Statskew/blob/main/Statskew_Practice_1.ipynb\" target=\"_parent\"><img src=\"https://colab.research.google.com/assets/colab-badge.svg\" alt=\"Open In Colab\"/></a>"
      ]
    },
    {
      "cell_type": "markdown",
      "source": [
        "NOTES-\n",
        "DIFFRENCE BETWEEN LIST AND TUPLE\n",
        "BASCI DIFFERENCE IS WE CAN STORE VALUE IN TUPLE BUT CANNOT CHANGE ANY VALUE INSIDE IT BUT WE CAN CHANGE IT INSIDE LIST\n",
        "\n",
        "HOW CAN YOU EXTRACT THE VALE FROM LIST-\n",
        "\n",
        "Size of tuple is smaller than list so we need list"
      ],
      "metadata": {
        "id": "5vBE_qs_E40d"
      }
    },
    {
      "cell_type": "code",
      "execution_count": 1,
      "metadata": {
        "id": "tRy0sf8DCosq",
        "colab": {
          "base_uri": "https://localhost:8080/"
        },
        "outputId": "aff4cfaf-2756-4795-ec18-9b7b5363d156"
      },
      "outputs": [
        {
          "output_type": "stream",
          "name": "stdout",
          "text": [
            "Hello\n"
          ]
        }
      ],
      "source": [
        "print(\"Hello\")"
      ]
    },
    {
      "cell_type": "code",
      "source": [
        "print(\"K\")"
      ],
      "metadata": {
        "colab": {
          "base_uri": "https://localhost:8080/"
        },
        "id": "BfLecC1QD7u6",
        "outputId": "3df62b9f-bfec-468a-b4e9-3242d93b8064"
      },
      "execution_count": 2,
      "outputs": [
        {
          "output_type": "stream",
          "name": "stdout",
          "text": [
            "K\n"
          ]
        }
      ]
    },
    {
      "cell_type": "code",
      "source": [
        " a=\"5\"\n",
        " type(a)"
      ],
      "metadata": {
        "colab": {
          "base_uri": "https://localhost:8080/"
        },
        "id": "PVKQQsgrEE_p",
        "outputId": "2b1c1be0-7f61-42c2-a5a1-31690245e97c"
      },
      "execution_count": 3,
      "outputs": [
        {
          "output_type": "execute_result",
          "data": {
            "text/plain": [
              "str"
            ]
          },
          "metadata": {},
          "execution_count": 3
        }
      ]
    },
    {
      "cell_type": "code",
      "source": [
        "b =5\n",
        "type(b)"
      ],
      "metadata": {
        "colab": {
          "base_uri": "https://localhost:8080/"
        },
        "id": "gtWOMPaIEUYs",
        "outputId": "682f1d7c-5d65-48f5-ceee-1a1800abc735"
      },
      "execution_count": 4,
      "outputs": [
        {
          "output_type": "execute_result",
          "data": {
            "text/plain": [
              "int"
            ]
          },
          "metadata": {},
          "execution_count": 4
        }
      ]
    },
    {
      "cell_type": "code",
      "source": [
        "c=5.0\n",
        "type(c)"
      ],
      "metadata": {
        "colab": {
          "base_uri": "https://localhost:8080/"
        },
        "id": "K8bGM6sKEXPu",
        "outputId": "5be07477-b97b-441a-b7a5-bb5852f2216f"
      },
      "execution_count": 5,
      "outputs": [
        {
          "output_type": "execute_result",
          "data": {
            "text/plain": [
              "float"
            ]
          },
          "metadata": {},
          "execution_count": 5
        }
      ]
    },
    {
      "cell_type": "markdown",
      "source": [
        "list= []\n",
        "tuple=()\n",
        "dict={}\n",
        "set={}"
      ],
      "metadata": {
        "id": "GWdVmEuRVFfc"
      }
    },
    {
      "cell_type": "code",
      "source": [
        "a = [1,2,3,4, \"Komal\",\"ABC\"]"
      ],
      "metadata": {
        "id": "47IGk_KFFXc8"
      },
      "execution_count": 6,
      "outputs": []
    },
    {
      "cell_type": "code",
      "source": [
        "a[4]"
      ],
      "metadata": {
        "colab": {
          "base_uri": "https://localhost:8080/",
          "height": 35
        },
        "id": "o7HXjND9FjGt",
        "outputId": "52bba111-6838-4c03-a5e9-e7554f8c0bcb"
      },
      "execution_count": 7,
      "outputs": [
        {
          "output_type": "execute_result",
          "data": {
            "text/plain": [
              "'Komal'"
            ],
            "application/vnd.google.colaboratory.intrinsic+json": {
              "type": "string"
            }
          },
          "metadata": {},
          "execution_count": 7
        }
      ]
    },
    {
      "cell_type": "code",
      "source": [
        "type(a)"
      ],
      "metadata": {
        "colab": {
          "base_uri": "https://localhost:8080/"
        },
        "id": "c3xGH-r9W0mN",
        "outputId": "79fde3fe-73ca-4875-edf6-2a6e5684cbb5"
      },
      "execution_count": 8,
      "outputs": [
        {
          "output_type": "execute_result",
          "data": {
            "text/plain": [
              "list"
            ]
          },
          "metadata": {},
          "execution_count": 8
        }
      ]
    },
    {
      "cell_type": "markdown",
      "source": [
        "** to extract any value**\n",
        "Indexing"
      ],
      "metadata": {
        "id": "k3sYTP6MFtmm"
      }
    },
    {
      "cell_type": "code",
      "source": [
        "a[-6]"
      ],
      "metadata": {
        "colab": {
          "base_uri": "https://localhost:8080/"
        },
        "id": "_CCgbscfF4uE",
        "outputId": "e3a81473-6216-40ac-b362-5b39b55ae927"
      },
      "execution_count": 9,
      "outputs": [
        {
          "output_type": "execute_result",
          "data": {
            "text/plain": [
              "1"
            ]
          },
          "metadata": {},
          "execution_count": 9
        }
      ]
    },
    {
      "cell_type": "code",
      "source": [
        "a[0:5]"
      ],
      "metadata": {
        "colab": {
          "base_uri": "https://localhost:8080/"
        },
        "id": "r06a8YgrF6RF",
        "outputId": "1913d216-e0d6-41b4-a1e0-bae89da05ed9"
      },
      "execution_count": 10,
      "outputs": [
        {
          "output_type": "execute_result",
          "data": {
            "text/plain": [
              "[1, 2, 3, 4, 'Komal']"
            ]
          },
          "metadata": {},
          "execution_count": 10
        }
      ]
    },
    {
      "cell_type": "markdown",
      "source": [
        "To extract multiple values\n"
      ],
      "metadata": {
        "id": "JAsOgOs9F8-m"
      }
    },
    {
      "cell_type": "code",
      "source": [
        "a[3]"
      ],
      "metadata": {
        "colab": {
          "base_uri": "https://localhost:8080/"
        },
        "id": "d9otXIQbGART",
        "outputId": "bd527ae0-f215-47a5-aa2e-36ce15537c02"
      },
      "execution_count": 11,
      "outputs": [
        {
          "output_type": "execute_result",
          "data": {
            "text/plain": [
              "4"
            ]
          },
          "metadata": {},
          "execution_count": 11
        }
      ]
    },
    {
      "cell_type": "code",
      "source": [
        "a[3]=\"Ranjan\""
      ],
      "metadata": {
        "id": "A_zHDZ74L6l1"
      },
      "execution_count": 12,
      "outputs": []
    },
    {
      "cell_type": "code",
      "source": [
        "a"
      ],
      "metadata": {
        "colab": {
          "base_uri": "https://localhost:8080/"
        },
        "id": "JxdIAFCWMAFz",
        "outputId": "3f977143-5d98-4a1b-d116-6079022c3d77"
      },
      "execution_count": 13,
      "outputs": [
        {
          "output_type": "execute_result",
          "data": {
            "text/plain": [
              "[1, 2, 3, 'Ranjan', 'Komal', 'ABC']"
            ]
          },
          "metadata": {},
          "execution_count": 13
        }
      ]
    },
    {
      "cell_type": "markdown",
      "source": [
        "To change contents of list"
      ],
      "metadata": {
        "id": "ug3tksn7GWds"
      }
    },
    {
      "cell_type": "code",
      "source": [
        "b=(1, 2, 3, 'Ranjan', 'Komal', 'ABC',7.0,7)\n",
        "type(b)"
      ],
      "metadata": {
        "colab": {
          "base_uri": "https://localhost:8080/"
        },
        "id": "3nQi4BnvMGV8",
        "outputId": "86aacff4-3867-4492-d257-0b8b810fa292"
      },
      "execution_count": 14,
      "outputs": [
        {
          "output_type": "execute_result",
          "data": {
            "text/plain": [
              "tuple"
            ]
          },
          "metadata": {},
          "execution_count": 14
        }
      ]
    },
    {
      "cell_type": "code",
      "source": [
        "b"
      ],
      "metadata": {
        "colab": {
          "base_uri": "https://localhost:8080/"
        },
        "id": "JLYJaAuKOyvl",
        "outputId": "a3fe19d8-ee41-48a7-c64e-aad81bdc79a6"
      },
      "execution_count": 15,
      "outputs": [
        {
          "output_type": "execute_result",
          "data": {
            "text/plain": [
              "(1, 2, 3, 'Ranjan', 'Komal', 'ABC', 7.0, 7)"
            ]
          },
          "metadata": {},
          "execution_count": 15
        }
      ]
    },
    {
      "cell_type": "markdown",
      "source": [
        "You cannot change tuple"
      ],
      "metadata": {
        "id": "xPhGvJHwMVJk"
      }
    },
    {
      "cell_type": "code",
      "source": [
        "b[3]= 4"
      ],
      "metadata": {
        "colab": {
          "base_uri": "https://localhost:8080/",
          "height": 165
        },
        "id": "RQfZQyMMMQiY",
        "outputId": "d991874d-0f3c-4cdd-de4a-e870c6d0bb0d"
      },
      "execution_count": 16,
      "outputs": [
        {
          "output_type": "error",
          "ename": "TypeError",
          "evalue": "ignored",
          "traceback": [
            "\u001b[0;31m---------------------------------------------------------------------------\u001b[0m",
            "\u001b[0;31mTypeError\u001b[0m                                 Traceback (most recent call last)",
            "\u001b[0;32m<ipython-input-16-8bb7ad7e10a1>\u001b[0m in \u001b[0;36m<cell line: 1>\u001b[0;34m()\u001b[0m\n\u001b[0;32m----> 1\u001b[0;31m \u001b[0mb\u001b[0m\u001b[0;34m[\u001b[0m\u001b[0;36m3\u001b[0m\u001b[0;34m]\u001b[0m\u001b[0;34m=\u001b[0m \u001b[0;36m4\u001b[0m\u001b[0;34m\u001b[0m\u001b[0;34m\u001b[0m\u001b[0m\n\u001b[0m",
            "\u001b[0;31mTypeError\u001b[0m: 'tuple' object does not support item assignment"
          ]
        }
      ]
    },
    {
      "cell_type": "markdown",
      "source": [
        "Boolen"
      ],
      "metadata": {
        "id": "TJdR1g_DMcMy"
      }
    },
    {
      "cell_type": "code",
      "source": [
        "b[3]== 3"
      ],
      "metadata": {
        "colab": {
          "base_uri": "https://localhost:8080/"
        },
        "id": "DdTkYPS1MTdS",
        "outputId": "0ba1995c-07cb-43fb-b7ea-fb7be62e13af"
      },
      "execution_count": 17,
      "outputs": [
        {
          "output_type": "execute_result",
          "data": {
            "text/plain": [
              "False"
            ]
          },
          "metadata": {},
          "execution_count": 17
        }
      ]
    },
    {
      "cell_type": "markdown",
      "source": [
        "To change tuple to list"
      ],
      "metadata": {
        "id": "RfIVba54Mgdr"
      }
    },
    {
      "cell_type": "code",
      "source": [
        "b=(1, 2, 3, 'Ranjan', 'Komal', 'ABC',7.0,7)\n",
        "b"
      ],
      "metadata": {
        "colab": {
          "base_uri": "https://localhost:8080/"
        },
        "id": "4m5JRAuNUs7j",
        "outputId": "b48f55fe-b483-4c22-ceda-b489bbd1bc7a"
      },
      "execution_count": 18,
      "outputs": [
        {
          "output_type": "execute_result",
          "data": {
            "text/plain": [
              "(1, 2, 3, 'Ranjan', 'Komal', 'ABC', 7.0, 7)"
            ]
          },
          "metadata": {},
          "execution_count": 18
        }
      ]
    },
    {
      "cell_type": "code",
      "source": [
        "list_ = list(b)\n",
        "list_[1]=9\n",
        "tuple_ = tuple(list_)\n",
        "tuple_"
      ],
      "metadata": {
        "colab": {
          "base_uri": "https://localhost:8080/"
        },
        "id": "6IR4Bqg1Ma3C",
        "outputId": "256936c8-4204-459a-f40b-88fcdaef3204"
      },
      "execution_count": 19,
      "outputs": [
        {
          "output_type": "execute_result",
          "data": {
            "text/plain": [
              "(1, 9, 3, 'Ranjan', 'Komal', 'ABC', 7.0, 7)"
            ]
          },
          "metadata": {},
          "execution_count": 19
        }
      ]
    },
    {
      "cell_type": "markdown",
      "source": [
        "Dict and sets"
      ],
      "metadata": {
        "id": "azG-bXZAmeNe"
      }
    },
    {
      "cell_type": "code",
      "source": [
        "dict1 = {\"Name\": [\"Komal\",\"Blah\" ], \"Class\":[\"DA\",\"DE\"]}\n",
        "dict1"
      ],
      "metadata": {
        "colab": {
          "base_uri": "https://localhost:8080/"
        },
        "id": "Lr8FipVPPTg8",
        "outputId": "3d516c7c-c215-44ad-a0e8-f3bf89e8fe8a"
      },
      "execution_count": 20,
      "outputs": [
        {
          "output_type": "execute_result",
          "data": {
            "text/plain": [
              "{'Name': ['Komal', 'Blah'], 'Class': ['DA', 'DE']}"
            ]
          },
          "metadata": {},
          "execution_count": 20
        }
      ]
    },
    {
      "cell_type": "markdown",
      "source": [
        "NEsted dict"
      ],
      "metadata": {
        "id": "tPa4kVnwnGCI"
      }
    },
    {
      "cell_type": "code",
      "source": [
        "dict2 = {\"Name\":{\"First_name\":[\"Komal\"],\"Last_Name\":[\"Ranjan\"]},\"Class\":[\"DA\",\"DE\"]}"
      ],
      "metadata": {
        "id": "o5yMPUMOm-N9"
      },
      "execution_count": 21,
      "outputs": []
    },
    {
      "cell_type": "code",
      "source": [
        "dict2"
      ],
      "metadata": {
        "colab": {
          "base_uri": "https://localhost:8080/"
        },
        "id": "aXe5bgRjnhHI",
        "outputId": "672fdd38-59db-40e7-b497-c630bf3490c4"
      },
      "execution_count": 22,
      "outputs": [
        {
          "output_type": "execute_result",
          "data": {
            "text/plain": [
              "{'Name': {'First_name': ['Komal'], 'Last_Name': ['Ranjan']},\n",
              " 'Class': ['DA', 'DE']}"
            ]
          },
          "metadata": {},
          "execution_count": 22
        }
      ]
    },
    {
      "cell_type": "markdown",
      "source": [
        "Dict slicing"
      ],
      "metadata": {
        "id": "1Th0z-c0npMw"
      }
    },
    {
      "cell_type": "code",
      "source": [
        "dict1[\"Name\"]"
      ],
      "metadata": {
        "colab": {
          "base_uri": "https://localhost:8080/"
        },
        "id": "3glRE4Ywnh_a",
        "outputId": "60e295e9-a66f-41c2-9ce0-595a050e4601"
      },
      "execution_count": 23,
      "outputs": [
        {
          "output_type": "execute_result",
          "data": {
            "text/plain": [
              "['Komal', 'Blah']"
            ]
          },
          "metadata": {},
          "execution_count": 23
        }
      ]
    },
    {
      "cell_type": "code",
      "source": [
        "dict1[\"Name\"][1]"
      ],
      "metadata": {
        "colab": {
          "base_uri": "https://localhost:8080/",
          "height": 35
        },
        "id": "MjlKHs39nw9a",
        "outputId": "c394a43b-5bff-4443-977e-ea74763aba7f"
      },
      "execution_count": 24,
      "outputs": [
        {
          "output_type": "execute_result",
          "data": {
            "text/plain": [
              "'Blah'"
            ],
            "application/vnd.google.colaboratory.intrinsic+json": {
              "type": "string"
            }
          },
          "metadata": {},
          "execution_count": 24
        }
      ]
    },
    {
      "cell_type": "code",
      "source": [
        "dict1[\"Name\"][1]\n",
        "type(dict1)"
      ],
      "metadata": {
        "colab": {
          "base_uri": "https://localhost:8080/"
        },
        "id": "GJhr6fHRn_Kj",
        "outputId": "1b68e5a2-a882-44be-a58c-b294e01aa09c"
      },
      "execution_count": 25,
      "outputs": [
        {
          "output_type": "execute_result",
          "data": {
            "text/plain": [
              "dict"
            ]
          },
          "metadata": {},
          "execution_count": 25
        }
      ]
    },
    {
      "cell_type": "code",
      "source": [
        "set1 = {2,3,4,5,6,7,3,4,5,1,7}"
      ],
      "metadata": {
        "id": "lsy8I8c3oE47"
      },
      "execution_count": 26,
      "outputs": []
    },
    {
      "cell_type": "code",
      "source": [
        "set1"
      ],
      "metadata": {
        "colab": {
          "base_uri": "https://localhost:8080/"
        },
        "id": "DLwYWNEBoN6S",
        "outputId": "ec54b875-b9b0-45eb-b4e3-0ae477f0c5bd"
      },
      "execution_count": 27,
      "outputs": [
        {
          "output_type": "execute_result",
          "data": {
            "text/plain": [
              "{1, 2, 3, 4, 5, 6, 7}"
            ]
          },
          "metadata": {},
          "execution_count": 27
        }
      ]
    },
    {
      "cell_type": "markdown",
      "source": [
        "Input-\n",
        "to take input from user\n",
        "Alwyas gives string value as output"
      ],
      "metadata": {
        "id": "L80aJou4oa7Y"
      }
    },
    {
      "cell_type": "code",
      "source": [
        "d = 5+6\n",
        "d"
      ],
      "metadata": {
        "colab": {
          "base_uri": "https://localhost:8080/"
        },
        "id": "_m3IR_looO4d",
        "outputId": "58e7d886-0935-4069-9670-659c91775220"
      },
      "execution_count": 28,
      "outputs": [
        {
          "output_type": "execute_result",
          "data": {
            "text/plain": [
              "11"
            ]
          },
          "metadata": {},
          "execution_count": 28
        }
      ]
    },
    {
      "cell_type": "code",
      "source": [
        "name = input(\"Enter name\\n\")"
      ],
      "metadata": {
        "colab": {
          "base_uri": "https://localhost:8080/"
        },
        "id": "hjT76Q0Sokbu",
        "outputId": "73aae221-11b6-419e-d9b2-93b44d0e65a2"
      },
      "execution_count": 29,
      "outputs": [
        {
          "name": "stdout",
          "output_type": "stream",
          "text": [
            "Enter name\n",
            "\n"
          ]
        }
      ]
    },
    {
      "cell_type": "code",
      "source": [
        "type(name)"
      ],
      "metadata": {
        "colab": {
          "base_uri": "https://localhost:8080/"
        },
        "id": "XFWTnceQotHP",
        "outputId": "b633db9e-c305-4642-e12b-9c0cb335272a"
      },
      "execution_count": 30,
      "outputs": [
        {
          "output_type": "execute_result",
          "data": {
            "text/plain": [
              "str"
            ]
          },
          "metadata": {},
          "execution_count": 30
        }
      ]
    },
    {
      "cell_type": "code",
      "source": [
        "name = input(\"Enter name\\n\")"
      ],
      "metadata": {
        "colab": {
          "base_uri": "https://localhost:8080/"
        },
        "id": "ht19lPs6o6cw",
        "outputId": "8c19b817-037d-4941-ad29-0668b0659ca5"
      },
      "execution_count": 31,
      "outputs": [
        {
          "name": "stdout",
          "output_type": "stream",
          "text": [
            "Enter name\n",
            "k\n"
          ]
        }
      ]
    },
    {
      "cell_type": "code",
      "source": [
        "type(name)\n"
      ],
      "metadata": {
        "colab": {
          "base_uri": "https://localhost:8080/"
        },
        "id": "LB_1QwMMpADu",
        "outputId": "258d1d8d-32b0-437e-c283-72c0adba0b04"
      },
      "execution_count": 32,
      "outputs": [
        {
          "output_type": "execute_result",
          "data": {
            "text/plain": [
              "str"
            ]
          },
          "metadata": {},
          "execution_count": 32
        }
      ]
    },
    {
      "cell_type": "code",
      "source": [
        "str(5)+str(6)"
      ],
      "metadata": {
        "colab": {
          "base_uri": "https://localhost:8080/",
          "height": 35
        },
        "id": "3CPWrRj6pEJq",
        "outputId": "7807f287-6289-4814-f854-41e374a28f01"
      },
      "execution_count": 33,
      "outputs": [
        {
          "output_type": "execute_result",
          "data": {
            "text/plain": [
              "'56'"
            ],
            "application/vnd.google.colaboratory.intrinsic+json": {
              "type": "string"
            }
          },
          "metadata": {},
          "execution_count": 33
        }
      ]
    },
    {
      "cell_type": "markdown",
      "source": [
        "int is used for integer or float value and u cannot use string value"
      ],
      "metadata": {
        "id": "W3_rd8pypa-e"
      }
    },
    {
      "cell_type": "code",
      "source": [
        "int1= int(input(\"Enter number:\\n \"))"
      ],
      "metadata": {
        "colab": {
          "base_uri": "https://localhost:8080/"
        },
        "id": "gBE-AsvhpWgR",
        "outputId": "609d8837-3c9c-4f11-93bd-8a10af8f1425"
      },
      "execution_count": 34,
      "outputs": [
        {
          "name": "stdout",
          "output_type": "stream",
          "text": [
            "Enter number:\n",
            " 7\n"
          ]
        }
      ]
    },
    {
      "cell_type": "code",
      "source": [
        "type(int1)"
      ],
      "metadata": {
        "id": "noEKN8siprhE",
        "colab": {
          "base_uri": "https://localhost:8080/"
        },
        "outputId": "9d59397b-4f1b-4647-87c7-40a45af874db"
      },
      "execution_count": 35,
      "outputs": [
        {
          "output_type": "execute_result",
          "data": {
            "text/plain": [
              "int"
            ]
          },
          "metadata": {},
          "execution_count": 35
        }
      ]
    },
    {
      "cell_type": "markdown",
      "source": [
        "Addition of two numbers taking input from the user"
      ],
      "metadata": {
        "id": "KSkhKuFEp1JO"
      }
    },
    {
      "cell_type": "code",
      "source": [
        "a = int(input(\"Enter Number1:\\n\"))\n",
        "b= int(input(\"Enter Number2:\\n\"))\n",
        "c= a+b\n",
        "c"
      ],
      "metadata": {
        "id": "YSsIBiGupuOM",
        "colab": {
          "base_uri": "https://localhost:8080/"
        },
        "outputId": "c3e0a399-709c-4da8-e49d-7ee195f59fd2"
      },
      "execution_count": 36,
      "outputs": [
        {
          "name": "stdout",
          "output_type": "stream",
          "text": [
            "Enter Number1:\n",
            "7\n",
            "Enter Number2:\n",
            "99\n"
          ]
        },
        {
          "output_type": "execute_result",
          "data": {
            "text/plain": [
              "106"
            ]
          },
          "metadata": {},
          "execution_count": 36
        }
      ]
    },
    {
      "cell_type": "code",
      "source": [
        "a = int(input(\"Enter Number1:\\n\"))\n",
        "b= int(input(\"Enter Number2:\\n\"))\n",
        "c= a+b\n",
        "print(\"The sum of a+b =\",c)"
      ],
      "metadata": {
        "id": "nankKX31qLzB",
        "colab": {
          "base_uri": "https://localhost:8080/"
        },
        "outputId": "16f83fb1-c86a-4033-d31c-8511c2a1eb26"
      },
      "execution_count": 37,
      "outputs": [
        {
          "output_type": "stream",
          "name": "stdout",
          "text": [
            "Enter Number1:\n",
            "89\n",
            "Enter Number2:\n",
            "69\n",
            "The sum of a+b = 158\n"
          ]
        }
      ]
    },
    {
      "cell_type": "markdown",
      "source": [
        "Python operators-\n",
        "\n",
        "+-*/% ** //\n",
        "\n",
        "\n",
        "**-> power\n",
        "\n",
        "// -> remove decimal value and give the quotient"
      ],
      "metadata": {
        "id": "hNe7jUNyq-dt"
      }
    },
    {
      "cell_type": "code",
      "source": [
        "5%2"
      ],
      "metadata": {
        "colab": {
          "base_uri": "https://localhost:8080/"
        },
        "id": "80IJswX7qaEM",
        "outputId": "8737ca2d-0187-4764-96ef-ae4275e379ce"
      },
      "execution_count": 38,
      "outputs": [
        {
          "output_type": "execute_result",
          "data": {
            "text/plain": [
              "1"
            ]
          },
          "metadata": {},
          "execution_count": 38
        }
      ]
    },
    {
      "cell_type": "code",
      "source": [
        "5+2"
      ],
      "metadata": {
        "colab": {
          "base_uri": "https://localhost:8080/"
        },
        "id": "U1NfBYIvrLV9",
        "outputId": "a30a7e64-55a4-484d-8fb8-30fe3fc9f502"
      },
      "execution_count": 39,
      "outputs": [
        {
          "output_type": "execute_result",
          "data": {
            "text/plain": [
              "7"
            ]
          },
          "metadata": {},
          "execution_count": 39
        }
      ]
    },
    {
      "cell_type": "code",
      "source": [
        "5-2"
      ],
      "metadata": {
        "colab": {
          "base_uri": "https://localhost:8080/"
        },
        "id": "1BU-wf-FrVf4",
        "outputId": "72beadf2-0027-42f3-8c3e-3a4f1fe04241"
      },
      "execution_count": 40,
      "outputs": [
        {
          "output_type": "execute_result",
          "data": {
            "text/plain": [
              "3"
            ]
          },
          "metadata": {},
          "execution_count": 40
        }
      ]
    },
    {
      "cell_type": "code",
      "source": [
        "2**2"
      ],
      "metadata": {
        "colab": {
          "base_uri": "https://localhost:8080/"
        },
        "id": "9ocvGHbYrWKR",
        "outputId": "9a4bca89-dfde-4cb5-f2fc-25141adb167b"
      },
      "execution_count": 41,
      "outputs": [
        {
          "output_type": "execute_result",
          "data": {
            "text/plain": [
              "4"
            ]
          },
          "metadata": {},
          "execution_count": 41
        }
      ]
    },
    {
      "cell_type": "code",
      "source": [
        "5//2"
      ],
      "metadata": {
        "colab": {
          "base_uri": "https://localhost:8080/"
        },
        "id": "gp93XNIKrY--",
        "outputId": "f621e579-dcfb-468a-cde4-3baaa5e75d57"
      },
      "execution_count": 42,
      "outputs": [
        {
          "output_type": "execute_result",
          "data": {
            "text/plain": [
              "2"
            ]
          },
          "metadata": {},
          "execution_count": 42
        }
      ]
    },
    {
      "cell_type": "code",
      "source": [
        "5/2"
      ],
      "metadata": {
        "colab": {
          "base_uri": "https://localhost:8080/"
        },
        "id": "td4KuhdcEUZ1",
        "outputId": "5e1e3d86-e189-4bbb-8b59-5eb466a47752"
      },
      "execution_count": 43,
      "outputs": [
        {
          "output_type": "execute_result",
          "data": {
            "text/plain": [
              "2.5"
            ]
          },
          "metadata": {},
          "execution_count": 43
        }
      ]
    },
    {
      "cell_type": "markdown",
      "source": [
        "Relational/ comparision operator\n",
        "\n",
        ">\n",
        "<\n",
        "<=\n",
        ">= (smaller than equal to)\n",
        "==\n",
        "!="
      ],
      "metadata": {
        "id": "LVVFJg2NrqBO"
      }
    },
    {
      "cell_type": "markdown",
      "source": [
        "Assignment operator\n",
        "\n",
        "1. c+=1 : c=c+1\n",
        "2. c * =1: c=c * 1\n",
        "3. c/=1 : c=c/1\n",
        "\n",
        "\n",
        "\n"
      ],
      "metadata": {
        "id": "P2znk7CGr_G2"
      }
    },
    {
      "cell_type": "markdown",
      "source": [
        "Logical operator\n",
        "1. And\n",
        "2. or\n",
        "3. not"
      ],
      "metadata": {
        "id": "4LhGE6l8EyiC"
      }
    },
    {
      "cell_type": "code",
      "source": [
        "a = [1,2,3]\n",
        "print(1 not in a)"
      ],
      "metadata": {
        "colab": {
          "base_uri": "https://localhost:8080/"
        },
        "id": "4I2Zass9Epgs",
        "outputId": "f76fb708-f8d7-41fe-937a-e482fdab8ae4"
      },
      "execution_count": 44,
      "outputs": [
        {
          "output_type": "stream",
          "name": "stdout",
          "text": [
            "False\n"
          ]
        }
      ]
    },
    {
      "cell_type": "code",
      "source": [
        "a = [1,2,3]\n",
        "print(1 in a)"
      ],
      "metadata": {
        "colab": {
          "base_uri": "https://localhost:8080/"
        },
        "id": "X0FAKTaFEpdn",
        "outputId": "287f66fb-8620-449d-f6a7-0153eec05391"
      },
      "execution_count": 45,
      "outputs": [
        {
          "output_type": "stream",
          "name": "stdout",
          "text": [
            "True\n"
          ]
        }
      ]
    },
    {
      "cell_type": "markdown",
      "source": [
        "Control statements\n",
        "1. loop condition - for,whike\n",
        "2. Conditional statement- if ,elif, else\n"
      ],
      "metadata": {
        "id": "AWfO_PiPFN5j"
      }
    },
    {
      "cell_type": "code",
      "source": [
        "2%2==0"
      ],
      "metadata": {
        "colab": {
          "base_uri": "https://localhost:8080/"
        },
        "id": "wX-9Qxn9EpUm",
        "outputId": "01ff35e5-b7ce-4748-8bf1-5d8d77d1fe64"
      },
      "execution_count": 46,
      "outputs": [
        {
          "output_type": "execute_result",
          "data": {
            "text/plain": [
              "True"
            ]
          },
          "metadata": {},
          "execution_count": 46
        }
      ]
    },
    {
      "cell_type": "code",
      "source": [
        "num = int(input(\"enter the number:\"))\n",
        "if num%2==0:\n",
        "  print(\"The number is even\")\n",
        "elif num%3==0:\n",
        "  print(\"the number is diivsble by 3\")\n",
        "else:\n",
        "  print(\"The number is odd\")"
      ],
      "metadata": {
        "colab": {
          "base_uri": "https://localhost:8080/"
        },
        "id": "EcRD5tz3EpRL",
        "outputId": "2c069b89-1bce-4a0f-9a4d-22c06c7e42d8"
      },
      "execution_count": 47,
      "outputs": [
        {
          "output_type": "stream",
          "name": "stdout",
          "text": [
            "enter the number:79\n",
            "The number is odd\n"
          ]
        }
      ]
    },
    {
      "cell_type": "code",
      "source": [
        "for i in range(1,22):\n",
        "  if i%2==0:\n",
        "    print(i)"
      ],
      "metadata": {
        "colab": {
          "base_uri": "https://localhost:8080/"
        },
        "id": "T-eiGBQtEpO2",
        "outputId": "87fb6ef2-8380-4cc0-9a2c-22ab48a2b629"
      },
      "execution_count": 48,
      "outputs": [
        {
          "output_type": "stream",
          "name": "stdout",
          "text": [
            "2\n",
            "4\n",
            "6\n",
            "8\n",
            "10\n",
            "12\n",
            "14\n",
            "16\n",
            "18\n",
            "20\n"
          ]
        }
      ]
    },
    {
      "cell_type": "code",
      "source": [
        "for i in range(1,22):\n",
        "  print(i)"
      ],
      "metadata": {
        "colab": {
          "base_uri": "https://localhost:8080/"
        },
        "id": "EvM9HejkEpLv",
        "outputId": "50a84c92-47c8-4064-8a73-5d8c241b887b"
      },
      "execution_count": 49,
      "outputs": [
        {
          "output_type": "stream",
          "name": "stdout",
          "text": [
            "1\n",
            "2\n",
            "3\n",
            "4\n",
            "5\n",
            "6\n",
            "7\n",
            "8\n",
            "9\n",
            "10\n",
            "11\n",
            "12\n",
            "13\n",
            "14\n",
            "15\n",
            "16\n",
            "17\n",
            "18\n",
            "19\n",
            "20\n",
            "21\n"
          ]
        }
      ]
    },
    {
      "cell_type": "code",
      "source": [
        "a=1\n",
        "while a<20:\n",
        "  if a%2==0:\n",
        "    print(a)\n",
        "  a+=1"
      ],
      "metadata": {
        "colab": {
          "base_uri": "https://localhost:8080/"
        },
        "id": "o_UtailyEpI7",
        "outputId": "bff4b258-ec30-4c65-c1c9-1f3af04a121e"
      },
      "execution_count": 50,
      "outputs": [
        {
          "output_type": "stream",
          "name": "stdout",
          "text": [
            "2\n",
            "4\n",
            "6\n",
            "8\n",
            "10\n",
            "12\n",
            "14\n",
            "16\n",
            "18\n"
          ]
        }
      ]
    },
    {
      "cell_type": "code",
      "source": [
        "a=1\n",
        "while a<=20:\n",
        "  if a%2==0:\n",
        "    print(a)\n",
        "  a+=1"
      ],
      "metadata": {
        "colab": {
          "base_uri": "https://localhost:8080/"
        },
        "id": "OueKwn76EpGL",
        "outputId": "81799526-1491-4b6b-8d6a-7830a27918af"
      },
      "execution_count": 51,
      "outputs": [
        {
          "output_type": "stream",
          "name": "stdout",
          "text": [
            "2\n",
            "4\n",
            "6\n",
            "8\n",
            "10\n",
            "12\n",
            "14\n",
            "16\n",
            "18\n",
            "20\n"
          ]
        }
      ]
    },
    {
      "cell_type": "code",
      "source": [
        "a = int(input(\"enter 1st number:\"))\n",
        "b = int(input(\"enter second number:\"))\n",
        "c = int(input(\"Enter 3rd number:\"))\n",
        "\n",
        "if (a>b and a<c) or (a<b and a>c):\n",
        "  print(\"MiddleNumber=\",a)\n",
        "elif (b>a and b<c) or (b<a and b>c):\n",
        "  print(\"Middle number=\",b)\n",
        "else:\n",
        "  print(\"middle number=\",c)"
      ],
      "metadata": {
        "id": "sqZzdLmUrbV_",
        "colab": {
          "base_uri": "https://localhost:8080/"
        },
        "outputId": "d81cf1e0-d680-48ea-ab79-de87daab7663"
      },
      "execution_count": 54,
      "outputs": [
        {
          "output_type": "stream",
          "name": "stdout",
          "text": [
            "enter 1st number:79\n",
            "enter second number:77\n",
            "Enter 3rd number:0\n",
            "Middle number= 77\n"
          ]
        }
      ]
    },
    {
      "cell_type": "markdown",
      "source": [
        "*\n",
        "**\n",
        "***\n",
        "****\n",
        "*****\n",
        "\n",
        "The number of line is 5 , so n+1 i.e 6 will be taken as range"
      ],
      "metadata": {
        "id": "vZGAg1KbVBVb"
      }
    },
    {
      "cell_type": "code",
      "source": [
        "for i in range(1,6):\n",
        "  print(\"*\"*i)"
      ],
      "metadata": {
        "colab": {
          "base_uri": "https://localhost:8080/"
        },
        "id": "E9fqWlflU8Vp",
        "outputId": "f7f28f90-2c0d-4acd-e042-cd7fe04e2b8e"
      },
      "execution_count": 55,
      "outputs": [
        {
          "output_type": "stream",
          "name": "stdout",
          "text": [
            "*\n",
            "**\n",
            "***\n",
            "****\n",
            "*****\n"
          ]
        }
      ]
    },
    {
      "cell_type": "markdown",
      "source": [
        "FUNCTION\n",
        "\n",
        "If we write 100 lines of code and use it again again we use function\n",
        "\n",
        "def- defination\n",
        "additon- function name\n",
        "a,b- argument"
      ],
      "metadata": {
        "id": "Hm0zxBeOVrid"
      }
    },
    {
      "cell_type": "code",
      "source": [
        "def addition(a,b):\n",
        "  c= a+b\n",
        "  return c"
      ],
      "metadata": {
        "id": "g7q7dvp6U8SE"
      },
      "execution_count": 56,
      "outputs": []
    },
    {
      "cell_type": "code",
      "source": [
        "addition(5,6)"
      ],
      "metadata": {
        "colab": {
          "base_uri": "https://localhost:8080/"
        },
        "id": "X8D_hRyRU8MH",
        "outputId": "ec7ab506-48a3-4146-fc39-edfd07691303"
      },
      "execution_count": 57,
      "outputs": [
        {
          "output_type": "execute_result",
          "data": {
            "text/plain": [
              "11"
            ]
          },
          "metadata": {},
          "execution_count": 57
        }
      ]
    },
    {
      "cell_type": "markdown",
      "source": [
        "Default Argument"
      ],
      "metadata": {
        "id": "flvgTBM71mvY"
      }
    },
    {
      "cell_type": "code",
      "source": [
        "def add(a,b=2):\n",
        "  c=a+b\n",
        "  return c"
      ],
      "metadata": {
        "id": "pBNN6DDoU8Oo"
      },
      "execution_count": 58,
      "outputs": []
    },
    {
      "cell_type": "code",
      "source": [
        "add(5,6)"
      ],
      "metadata": {
        "colab": {
          "base_uri": "https://localhost:8080/"
        },
        "id": "gSg_szhLU8Jj",
        "outputId": "8e82a986-36e1-401f-93ef-35e096992b1d"
      },
      "execution_count": 59,
      "outputs": [
        {
          "output_type": "execute_result",
          "data": {
            "text/plain": [
              "11"
            ]
          },
          "metadata": {},
          "execution_count": 59
        }
      ]
    },
    {
      "cell_type": "code",
      "source": [
        "def find_middle_number(a,b,c):\n",
        "  if (a>b and a<c) or (a<b and a>c):\n",
        "    print(\"MiddleNumber=\",a)\n",
        "  elif (b>a and b<c) or (b<a and b>c):\n",
        "      print(\"Middle number=\",b)\n",
        "  else:\n",
        "        print(\"middle number=\",c)"
      ],
      "metadata": {
        "id": "DfBzkEsKU8HO"
      },
      "execution_count": 60,
      "outputs": []
    },
    {
      "cell_type": "code",
      "source": [
        "a = int(input(\"enter 1st number:\"))\n",
        "b = int(input(\"enter second number:\"))\n",
        "c = int(input(\"Enter 3rd number:\"))\n",
        "find_middle_number(a,b,c)"
      ],
      "metadata": {
        "colab": {
          "base_uri": "https://localhost:8080/"
        },
        "id": "R7KqlykZU8El",
        "outputId": "933ee83c-86f1-4c43-96be-17d9c081fd01"
      },
      "execution_count": 61,
      "outputs": [
        {
          "output_type": "stream",
          "name": "stdout",
          "text": [
            "enter 1st number:88\n",
            "enter second number:7\n",
            "Enter 3rd number:79\n",
            "middle number= 79\n"
          ]
        }
      ]
    },
    {
      "cell_type": "markdown",
      "source": [
        "Return and print\n",
        "The `return` statement is used to exit a function and send a value back to the caller. The `print()` function prints the value of its argument to the console.\n",
        "Here is an example of the difference between the two statements:\n",
        "def my_function(x):\n",
        "  if x == 0:\n",
        "    return 0\n",
        "  else:\n",
        "    return x + my_function(x - 1)\n",
        "print(my_function(5))\n",
        "\n",
        "In this example, the `return` statement is used to exit the function and send the value `5` back to the caller. The `print()` function is then used to print the value `5` to the console.\n"
      ],
      "metadata": {
        "id": "6gcRtAGm3xra"
      }
    },
    {
      "cell_type": "code",
      "source": [
        "def even(a,b):\n",
        "  for i in range(a,b):\n",
        "    if i%2==0:\n",
        "      print(i)\n",
        "even(1,22)"
      ],
      "metadata": {
        "colab": {
          "base_uri": "https://localhost:8080/"
        },
        "id": "-DCDKprjU8CF",
        "outputId": "413d01c6-f6a6-42b7-d881-26f233df32cc"
      },
      "execution_count": 62,
      "outputs": [
        {
          "output_type": "stream",
          "name": "stdout",
          "text": [
            "2\n",
            "4\n",
            "6\n",
            "8\n",
            "10\n",
            "12\n",
            "14\n",
            "16\n",
            "18\n",
            "20\n"
          ]
        }
      ]
    },
    {
      "cell_type": "code",
      "source": [
        "def even(a,b):\n",
        "  for i in range(a,b):\n",
        "    if i%2==0:\n",
        "      return i\n",
        "even(1,22)"
      ],
      "metadata": {
        "colab": {
          "base_uri": "https://localhost:8080/"
        },
        "id": "89VI1CHYU7_X",
        "outputId": "dfe90b78-df82-4970-ad20-6712b4bfdde3"
      },
      "execution_count": 63,
      "outputs": [
        {
          "output_type": "execute_result",
          "data": {
            "text/plain": [
              "2"
            ]
          },
          "metadata": {},
          "execution_count": 63
        }
      ]
    },
    {
      "cell_type": "code",
      "source": [],
      "metadata": {
        "id": "cBW5rh_YSzc6"
      },
      "execution_count": null,
      "outputs": []
    }
  ]
}