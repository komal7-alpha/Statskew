{
  "nbformat": 4,
  "nbformat_minor": 0,
  "metadata": {
    "colab": {
      "provenance": [],
      "authorship_tag": "ABX9TyOdvQ6k+tuaEQakZVgnn/s0",
      "include_colab_link": true
    },
    "kernelspec": {
      "name": "python3",
      "display_name": "Python 3"
    },
    "language_info": {
      "name": "python"
    }
  },
  "cells": [
    {
      "cell_type": "markdown",
      "metadata": {
        "id": "view-in-github",
        "colab_type": "text"
      },
      "source": [
        "<a href=\"https://colab.research.google.com/github/komal7-alpha/Statskew/blob/main/Statskew_Practice_1.ipynb\" target=\"_parent\"><img src=\"https://colab.research.google.com/assets/colab-badge.svg\" alt=\"Open In Colab\"/></a>"
      ]
    },
    {
      "cell_type": "markdown",
      "source": [
        "NOTES-\n",
        "DIFFRENCE BETWEEN LIST AND TUPLE\n",
        "BASCI DIFFERENCE IS WE CAN STORE VALUE IN TUPLE BUT CANNOT CHANGE ANY VALUE INSIDE IT BUT WE CAN CHANGE IT INSIDE LIST\n",
        "\n",
        "HOW CAN YOU EXTRACT THE VALE FROM LIST-\n",
        "\n",
        "Size of tuple is smaller than list so we need list"
      ],
      "metadata": {
        "id": "5vBE_qs_E40d"
      }
    },
    {
      "cell_type": "code",
      "execution_count": null,
      "metadata": {
        "id": "tRy0sf8DCosq",
        "colab": {
          "base_uri": "https://localhost:8080/"
        },
        "outputId": "1067d48f-f05f-4c06-a6d0-179a3d357762"
      },
      "outputs": [
        {
          "output_type": "stream",
          "name": "stdout",
          "text": [
            "Hello\n"
          ]
        }
      ],
      "source": [
        "print(\"Hello\")"
      ]
    },
    {
      "cell_type": "code",
      "source": [
        "print(\"K\")"
      ],
      "metadata": {
        "colab": {
          "base_uri": "https://localhost:8080/"
        },
        "id": "BfLecC1QD7u6",
        "outputId": "cde3394e-3b1b-4dbc-b873-770ac0160a28"
      },
      "execution_count": null,
      "outputs": [
        {
          "output_type": "stream",
          "name": "stdout",
          "text": [
            "K\n"
          ]
        }
      ]
    },
    {
      "cell_type": "code",
      "source": [
        " a=\"5\"\n",
        " type(a)"
      ],
      "metadata": {
        "colab": {
          "base_uri": "https://localhost:8080/"
        },
        "id": "PVKQQsgrEE_p",
        "outputId": "aab3031c-efe8-4a7e-ce24-7cca52bd73c9"
      },
      "execution_count": null,
      "outputs": [
        {
          "output_type": "execute_result",
          "data": {
            "text/plain": [
              "str"
            ]
          },
          "metadata": {},
          "execution_count": 3
        }
      ]
    },
    {
      "cell_type": "code",
      "source": [
        "b =5\n",
        "type(b)"
      ],
      "metadata": {
        "colab": {
          "base_uri": "https://localhost:8080/"
        },
        "id": "gtWOMPaIEUYs",
        "outputId": "c23e2de1-3444-459d-a4a6-698a03e88f73"
      },
      "execution_count": null,
      "outputs": [
        {
          "output_type": "execute_result",
          "data": {
            "text/plain": [
              "int"
            ]
          },
          "metadata": {},
          "execution_count": 4
        }
      ]
    },
    {
      "cell_type": "code",
      "source": [
        "c=5.0\n",
        "type(c)"
      ],
      "metadata": {
        "colab": {
          "base_uri": "https://localhost:8080/"
        },
        "id": "K8bGM6sKEXPu",
        "outputId": "2ab867ea-fdec-4da4-de61-02579f5ff609"
      },
      "execution_count": null,
      "outputs": [
        {
          "output_type": "execute_result",
          "data": {
            "text/plain": [
              "float"
            ]
          },
          "metadata": {},
          "execution_count": 5
        }
      ]
    },
    {
      "cell_type": "markdown",
      "source": [
        "list= []\n",
        "tuple=()\n",
        "dict={}\n",
        "set={}"
      ],
      "metadata": {
        "id": "GWdVmEuRVFfc"
      }
    },
    {
      "cell_type": "code",
      "source": [
        "a = [1,2,3,4, \"Komal\",\"ABC\"]"
      ],
      "metadata": {
        "id": "47IGk_KFFXc8"
      },
      "execution_count": null,
      "outputs": []
    },
    {
      "cell_type": "code",
      "source": [
        "a[4]"
      ],
      "metadata": {
        "colab": {
          "base_uri": "https://localhost:8080/",
          "height": 35
        },
        "id": "o7HXjND9FjGt",
        "outputId": "5118925d-58e8-4658-e8bd-2c3c5d606579"
      },
      "execution_count": null,
      "outputs": [
        {
          "output_type": "execute_result",
          "data": {
            "text/plain": [
              "'Komal'"
            ],
            "application/vnd.google.colaboratory.intrinsic+json": {
              "type": "string"
            }
          },
          "metadata": {},
          "execution_count": 7
        }
      ]
    },
    {
      "cell_type": "code",
      "source": [
        "type(a)"
      ],
      "metadata": {
        "colab": {
          "base_uri": "https://localhost:8080/"
        },
        "id": "c3xGH-r9W0mN",
        "outputId": "44f4964f-c287-40a9-b528-e03f056d83f8"
      },
      "execution_count": null,
      "outputs": [
        {
          "output_type": "execute_result",
          "data": {
            "text/plain": [
              "list"
            ]
          },
          "metadata": {},
          "execution_count": 8
        }
      ]
    },
    {
      "cell_type": "markdown",
      "source": [
        "** to extract any value**\n",
        "Indexing"
      ],
      "metadata": {
        "id": "k3sYTP6MFtmm"
      }
    },
    {
      "cell_type": "code",
      "source": [
        "a[-6]"
      ],
      "metadata": {
        "colab": {
          "base_uri": "https://localhost:8080/"
        },
        "id": "_CCgbscfF4uE",
        "outputId": "cb76a678-1af1-42be-ed06-0cdcfac2f9c4"
      },
      "execution_count": null,
      "outputs": [
        {
          "output_type": "execute_result",
          "data": {
            "text/plain": [
              "1"
            ]
          },
          "metadata": {},
          "execution_count": 9
        }
      ]
    },
    {
      "cell_type": "code",
      "source": [
        "a[0:5]"
      ],
      "metadata": {
        "colab": {
          "base_uri": "https://localhost:8080/"
        },
        "id": "r06a8YgrF6RF",
        "outputId": "4b3ee051-6800-4c9b-d714-9a7276f2f945"
      },
      "execution_count": null,
      "outputs": [
        {
          "output_type": "execute_result",
          "data": {
            "text/plain": [
              "[1, 2, 3, 4, 'Komal']"
            ]
          },
          "metadata": {},
          "execution_count": 10
        }
      ]
    },
    {
      "cell_type": "markdown",
      "source": [
        "To extract multiple values\n"
      ],
      "metadata": {
        "id": "JAsOgOs9F8-m"
      }
    },
    {
      "cell_type": "code",
      "source": [
        "a[3]"
      ],
      "metadata": {
        "colab": {
          "base_uri": "https://localhost:8080/"
        },
        "id": "d9otXIQbGART",
        "outputId": "c27a5ef1-e4f2-4bbc-d634-ff9792a51ef0"
      },
      "execution_count": null,
      "outputs": [
        {
          "output_type": "execute_result",
          "data": {
            "text/plain": [
              "4"
            ]
          },
          "metadata": {},
          "execution_count": 11
        }
      ]
    },
    {
      "cell_type": "code",
      "source": [
        "a[3]=\"Ranjan\""
      ],
      "metadata": {
        "id": "A_zHDZ74L6l1"
      },
      "execution_count": null,
      "outputs": []
    },
    {
      "cell_type": "code",
      "source": [
        "a"
      ],
      "metadata": {
        "colab": {
          "base_uri": "https://localhost:8080/"
        },
        "id": "JxdIAFCWMAFz",
        "outputId": "114a24fc-90a7-4151-eb58-66558e5fd076"
      },
      "execution_count": null,
      "outputs": [
        {
          "output_type": "execute_result",
          "data": {
            "text/plain": [
              "[1, 2, 3, 'Ranjan', 'Komal', 'ABC']"
            ]
          },
          "metadata": {},
          "execution_count": 13
        }
      ]
    },
    {
      "cell_type": "markdown",
      "source": [
        "To change contents of list"
      ],
      "metadata": {
        "id": "ug3tksn7GWds"
      }
    },
    {
      "cell_type": "code",
      "source": [
        "b=(1, 2, 3, 'Ranjan', 'Komal', 'ABC',7.0,7)\n",
        "type(b)"
      ],
      "metadata": {
        "colab": {
          "base_uri": "https://localhost:8080/"
        },
        "id": "3nQi4BnvMGV8",
        "outputId": "adad5513-da6a-4f9d-b443-ef39ed950a4c"
      },
      "execution_count": null,
      "outputs": [
        {
          "output_type": "execute_result",
          "data": {
            "text/plain": [
              "tuple"
            ]
          },
          "metadata": {},
          "execution_count": 14
        }
      ]
    },
    {
      "cell_type": "code",
      "source": [
        "b"
      ],
      "metadata": {
        "colab": {
          "base_uri": "https://localhost:8080/"
        },
        "id": "JLYJaAuKOyvl",
        "outputId": "c46638be-d31b-4936-9f6b-16ae673c295a"
      },
      "execution_count": null,
      "outputs": [
        {
          "output_type": "execute_result",
          "data": {
            "text/plain": [
              "(1, 2, 3, 'Ranjan', 'Komal', 'ABC', 7.0, 7)"
            ]
          },
          "metadata": {},
          "execution_count": 15
        }
      ]
    },
    {
      "cell_type": "markdown",
      "source": [
        "You cannot change tuple"
      ],
      "metadata": {
        "id": "xPhGvJHwMVJk"
      }
    },
    {
      "cell_type": "code",
      "source": [
        "b[3]= 4"
      ],
      "metadata": {
        "colab": {
          "base_uri": "https://localhost:8080/",
          "height": 165
        },
        "id": "RQfZQyMMMQiY",
        "outputId": "4ec04129-6ef0-4d32-ffc8-5fc19d1c6a29"
      },
      "execution_count": null,
      "outputs": [
        {
          "output_type": "error",
          "ename": "TypeError",
          "evalue": "ignored",
          "traceback": [
            "\u001b[0;31m---------------------------------------------------------------------------\u001b[0m",
            "\u001b[0;31mTypeError\u001b[0m                                 Traceback (most recent call last)",
            "\u001b[0;32m<ipython-input-16-8bb7ad7e10a1>\u001b[0m in \u001b[0;36m<cell line: 1>\u001b[0;34m()\u001b[0m\n\u001b[0;32m----> 1\u001b[0;31m \u001b[0mb\u001b[0m\u001b[0;34m[\u001b[0m\u001b[0;36m3\u001b[0m\u001b[0;34m]\u001b[0m\u001b[0;34m=\u001b[0m \u001b[0;36m4\u001b[0m\u001b[0;34m\u001b[0m\u001b[0;34m\u001b[0m\u001b[0m\n\u001b[0m",
            "\u001b[0;31mTypeError\u001b[0m: 'tuple' object does not support item assignment"
          ]
        }
      ]
    },
    {
      "cell_type": "markdown",
      "source": [
        "Boolen"
      ],
      "metadata": {
        "id": "TJdR1g_DMcMy"
      }
    },
    {
      "cell_type": "code",
      "source": [
        "b[3]== 3"
      ],
      "metadata": {
        "colab": {
          "base_uri": "https://localhost:8080/"
        },
        "id": "DdTkYPS1MTdS",
        "outputId": "f94dce10-42d6-48ad-e684-e49ef1e1453f"
      },
      "execution_count": null,
      "outputs": [
        {
          "output_type": "execute_result",
          "data": {
            "text/plain": [
              "False"
            ]
          },
          "metadata": {},
          "execution_count": 17
        }
      ]
    },
    {
      "cell_type": "markdown",
      "source": [
        "To change tuple to list"
      ],
      "metadata": {
        "id": "RfIVba54Mgdr"
      }
    },
    {
      "cell_type": "code",
      "source": [
        "b=(1, 2, 3, 'Ranjan', 'Komal', 'ABC',7.0,7)\n",
        "b"
      ],
      "metadata": {
        "colab": {
          "base_uri": "https://localhost:8080/"
        },
        "id": "4m5JRAuNUs7j",
        "outputId": "62f5c4c2-b107-40c2-a97d-45542056a9f8"
      },
      "execution_count": null,
      "outputs": [
        {
          "output_type": "execute_result",
          "data": {
            "text/plain": [
              "(1, 2, 3, 'Ranjan', 'Komal', 'ABC', 7.0, 7)"
            ]
          },
          "metadata": {},
          "execution_count": 18
        }
      ]
    },
    {
      "cell_type": "code",
      "source": [
        "list_ = list(b)\n",
        "list_[1]=9\n",
        "tuple_ = tuple(list_)\n",
        "tuple_"
      ],
      "metadata": {
        "colab": {
          "base_uri": "https://localhost:8080/"
        },
        "id": "6IR4Bqg1Ma3C",
        "outputId": "b1153f28-ee22-4ce9-b3af-b999de1928f1"
      },
      "execution_count": null,
      "outputs": [
        {
          "output_type": "execute_result",
          "data": {
            "text/plain": [
              "(1, 9, 3, 'Ranjan', 'Komal', 'ABC', 7.0, 7)"
            ]
          },
          "metadata": {},
          "execution_count": 19
        }
      ]
    },
    {
      "cell_type": "markdown",
      "source": [
        "Dict and sets"
      ],
      "metadata": {
        "id": "azG-bXZAmeNe"
      }
    },
    {
      "cell_type": "code",
      "source": [
        "dict1 = {\"Name\": [\"Komal\",\"Blah\" ], \"Class\":[\"DA\",\"DE\"]}\n",
        "dict1"
      ],
      "metadata": {
        "colab": {
          "base_uri": "https://localhost:8080/"
        },
        "id": "Lr8FipVPPTg8",
        "outputId": "9cde630c-9fac-4790-cf28-8a6a2350ec9f"
      },
      "execution_count": null,
      "outputs": [
        {
          "output_type": "execute_result",
          "data": {
            "text/plain": [
              "{'Name': ['Komal', 'Blah'], 'Class': ['DA', 'DE']}"
            ]
          },
          "metadata": {},
          "execution_count": 20
        }
      ]
    },
    {
      "cell_type": "markdown",
      "source": [
        "NEsted dict"
      ],
      "metadata": {
        "id": "tPa4kVnwnGCI"
      }
    },
    {
      "cell_type": "code",
      "source": [
        "dict2 = {\"Name\":{\"First_name\":[\"Komal\"],\"Last_Name\":[\"Ranjan\"]},\"Class\":[\"DA\",\"DE\"]}"
      ],
      "metadata": {
        "id": "o5yMPUMOm-N9"
      },
      "execution_count": null,
      "outputs": []
    },
    {
      "cell_type": "code",
      "source": [
        "dict2"
      ],
      "metadata": {
        "colab": {
          "base_uri": "https://localhost:8080/"
        },
        "id": "aXe5bgRjnhHI",
        "outputId": "b98ba5ee-728d-4f4e-ba0e-c3f925b34153"
      },
      "execution_count": null,
      "outputs": [
        {
          "output_type": "execute_result",
          "data": {
            "text/plain": [
              "{'Name': {'First_name': ['Komal'], 'Last_Name': ['Ranjan']},\n",
              " 'Class': ['DA', 'DE']}"
            ]
          },
          "metadata": {},
          "execution_count": 22
        }
      ]
    },
    {
      "cell_type": "markdown",
      "source": [
        "Dict slicing"
      ],
      "metadata": {
        "id": "1Th0z-c0npMw"
      }
    },
    {
      "cell_type": "code",
      "source": [
        "dict1[\"Name\"]"
      ],
      "metadata": {
        "colab": {
          "base_uri": "https://localhost:8080/"
        },
        "id": "3glRE4Ywnh_a",
        "outputId": "ae8361c7-a5d6-4264-ed5c-7577cabc770a"
      },
      "execution_count": null,
      "outputs": [
        {
          "output_type": "execute_result",
          "data": {
            "text/plain": [
              "['Komal', 'Blah']"
            ]
          },
          "metadata": {},
          "execution_count": 23
        }
      ]
    },
    {
      "cell_type": "code",
      "source": [
        "dict1[\"Name\"][1]"
      ],
      "metadata": {
        "colab": {
          "base_uri": "https://localhost:8080/",
          "height": 35
        },
        "id": "MjlKHs39nw9a",
        "outputId": "b6ded41f-8555-4e39-a729-d96cd1312054"
      },
      "execution_count": null,
      "outputs": [
        {
          "output_type": "execute_result",
          "data": {
            "text/plain": [
              "'Blah'"
            ],
            "application/vnd.google.colaboratory.intrinsic+json": {
              "type": "string"
            }
          },
          "metadata": {},
          "execution_count": 24
        }
      ]
    },
    {
      "cell_type": "code",
      "source": [
        "dict1[\"Name\"][1]\n",
        "type(dict1)"
      ],
      "metadata": {
        "colab": {
          "base_uri": "https://localhost:8080/"
        },
        "id": "GJhr6fHRn_Kj",
        "outputId": "72105bf8-666e-4ad5-89ba-2581a6baa610"
      },
      "execution_count": null,
      "outputs": [
        {
          "output_type": "execute_result",
          "data": {
            "text/plain": [
              "dict"
            ]
          },
          "metadata": {},
          "execution_count": 25
        }
      ]
    },
    {
      "cell_type": "code",
      "source": [
        "set1 = {2,3,4,5,6,7,3,4,5,1,7}"
      ],
      "metadata": {
        "id": "lsy8I8c3oE47"
      },
      "execution_count": null,
      "outputs": []
    },
    {
      "cell_type": "code",
      "source": [
        "set1"
      ],
      "metadata": {
        "colab": {
          "base_uri": "https://localhost:8080/"
        },
        "id": "DLwYWNEBoN6S",
        "outputId": "af90d55a-f0ba-46d7-cbec-a5ae0301318a"
      },
      "execution_count": null,
      "outputs": [
        {
          "output_type": "execute_result",
          "data": {
            "text/plain": [
              "{1, 2, 3, 4, 5, 6, 7}"
            ]
          },
          "metadata": {},
          "execution_count": 27
        }
      ]
    },
    {
      "cell_type": "markdown",
      "source": [
        "Input-\n",
        "to take input from user\n",
        "Alwyas gives string value as output"
      ],
      "metadata": {
        "id": "L80aJou4oa7Y"
      }
    },
    {
      "cell_type": "code",
      "source": [
        "d = 5+6\n",
        "d"
      ],
      "metadata": {
        "colab": {
          "base_uri": "https://localhost:8080/"
        },
        "id": "_m3IR_looO4d",
        "outputId": "af7ce5a6-3382-4edb-ae9e-466798a30fdb"
      },
      "execution_count": null,
      "outputs": [
        {
          "output_type": "execute_result",
          "data": {
            "text/plain": [
              "11"
            ]
          },
          "metadata": {},
          "execution_count": 28
        }
      ]
    },
    {
      "cell_type": "code",
      "source": [
        "name = input(\"Enter name\\n\")"
      ],
      "metadata": {
        "colab": {
          "base_uri": "https://localhost:8080/"
        },
        "id": "hjT76Q0Sokbu",
        "outputId": "122d0015-fd09-40e3-94be-66874177ddb6"
      },
      "execution_count": null,
      "outputs": [
        {
          "name": "stdout",
          "output_type": "stream",
          "text": [
            "Enter name\n",
            "\n"
          ]
        }
      ]
    },
    {
      "cell_type": "code",
      "source": [
        "type(name)"
      ],
      "metadata": {
        "colab": {
          "base_uri": "https://localhost:8080/"
        },
        "id": "XFWTnceQotHP",
        "outputId": "822983f0-7e5f-4167-ff2f-87dc8baad46d"
      },
      "execution_count": null,
      "outputs": [
        {
          "output_type": "execute_result",
          "data": {
            "text/plain": [
              "str"
            ]
          },
          "metadata": {},
          "execution_count": 30
        }
      ]
    },
    {
      "cell_type": "code",
      "source": [
        "name = input(\"Enter name\\n\")"
      ],
      "metadata": {
        "colab": {
          "base_uri": "https://localhost:8080/"
        },
        "id": "ht19lPs6o6cw",
        "outputId": "78d25bd9-050f-4c4a-c8b2-e89da7616f3a"
      },
      "execution_count": null,
      "outputs": [
        {
          "name": "stdout",
          "output_type": "stream",
          "text": [
            "Enter name\n",
            "\n"
          ]
        }
      ]
    },
    {
      "cell_type": "code",
      "source": [
        "type(name)\n"
      ],
      "metadata": {
        "colab": {
          "base_uri": "https://localhost:8080/"
        },
        "id": "LB_1QwMMpADu",
        "outputId": "04a33aff-befe-4870-bae3-55228a2c7d05"
      },
      "execution_count": null,
      "outputs": [
        {
          "output_type": "execute_result",
          "data": {
            "text/plain": [
              "str"
            ]
          },
          "metadata": {},
          "execution_count": 32
        }
      ]
    },
    {
      "cell_type": "code",
      "source": [
        "str(5)+str(6)"
      ],
      "metadata": {
        "colab": {
          "base_uri": "https://localhost:8080/",
          "height": 35
        },
        "id": "3CPWrRj6pEJq",
        "outputId": "7942ee8c-97dc-4189-e59f-c032419be949"
      },
      "execution_count": null,
      "outputs": [
        {
          "output_type": "execute_result",
          "data": {
            "text/plain": [
              "'56'"
            ],
            "application/vnd.google.colaboratory.intrinsic+json": {
              "type": "string"
            }
          },
          "metadata": {},
          "execution_count": 33
        }
      ]
    },
    {
      "cell_type": "markdown",
      "source": [
        "int is used for integer or float value and u cannot use string value"
      ],
      "metadata": {
        "id": "W3_rd8pypa-e"
      }
    },
    {
      "cell_type": "code",
      "source": [
        "int1= int(input(\"Enter number:\\n \"))"
      ],
      "metadata": {
        "colab": {
          "base_uri": "https://localhost:8080/",
          "height": 200
        },
        "id": "gBE-AsvhpWgR",
        "outputId": "c21c590e-9db8-4e02-f37a-776579e420ca"
      },
      "execution_count": null,
      "outputs": [
        {
          "name": "stdout",
          "output_type": "stream",
          "text": [
            "Enter number:\n",
            " \n"
          ]
        },
        {
          "output_type": "error",
          "ename": "ValueError",
          "evalue": "ignored",
          "traceback": [
            "\u001b[0;31m---------------------------------------------------------------------------\u001b[0m",
            "\u001b[0;31mValueError\u001b[0m                                Traceback (most recent call last)",
            "\u001b[0;32m<ipython-input-34-008a1cd29627>\u001b[0m in \u001b[0;36m<cell line: 1>\u001b[0;34m()\u001b[0m\n\u001b[0;32m----> 1\u001b[0;31m \u001b[0mint1\u001b[0m\u001b[0;34m=\u001b[0m \u001b[0mint\u001b[0m\u001b[0;34m(\u001b[0m\u001b[0minput\u001b[0m\u001b[0;34m(\u001b[0m\u001b[0;34m\"Enter number:\\n \"\u001b[0m\u001b[0;34m)\u001b[0m\u001b[0;34m)\u001b[0m\u001b[0;34m\u001b[0m\u001b[0;34m\u001b[0m\u001b[0m\n\u001b[0m",
            "\u001b[0;31mValueError\u001b[0m: invalid literal for int() with base 10: ''"
          ]
        }
      ]
    },
    {
      "cell_type": "code",
      "source": [
        "type(int1)"
      ],
      "metadata": {
        "id": "noEKN8siprhE"
      },
      "execution_count": null,
      "outputs": []
    },
    {
      "cell_type": "markdown",
      "source": [
        "Addition of two numbers taking input from the user"
      ],
      "metadata": {
        "id": "KSkhKuFEp1JO"
      }
    },
    {
      "cell_type": "code",
      "source": [
        "a = int(input(\"Enter Number1:\\n\"))\n",
        "b= int(input(\"Enter Number2:\\n\"))\n",
        "c= a+b\n",
        "c"
      ],
      "metadata": {
        "id": "YSsIBiGupuOM"
      },
      "execution_count": null,
      "outputs": []
    },
    {
      "cell_type": "code",
      "source": [
        "a = int(input(\"Enter Number1:\\n\"))\n",
        "b= int(input(\"Enter Number2:\\n\"))\n",
        "c= a+b\n",
        "print(\"The sum of a+b =\",c)"
      ],
      "metadata": {
        "id": "nankKX31qLzB"
      },
      "execution_count": null,
      "outputs": []
    },
    {
      "cell_type": "markdown",
      "source": [
        "Python operators-\n",
        "\n",
        "+-*/% ** //\n",
        "\n",
        "\n",
        "**-> power\n",
        "\n",
        "// -> remove decimal value and give the quotient"
      ],
      "metadata": {
        "id": "hNe7jUNyq-dt"
      }
    },
    {
      "cell_type": "code",
      "source": [
        "5%2"
      ],
      "metadata": {
        "colab": {
          "base_uri": "https://localhost:8080/"
        },
        "id": "80IJswX7qaEM",
        "outputId": "318fcb29-fc75-4080-883f-59465025ddf1"
      },
      "execution_count": null,
      "outputs": [
        {
          "output_type": "execute_result",
          "data": {
            "text/plain": [
              "1"
            ]
          },
          "metadata": {},
          "execution_count": 35
        }
      ]
    },
    {
      "cell_type": "code",
      "source": [
        "5+2"
      ],
      "metadata": {
        "colab": {
          "base_uri": "https://localhost:8080/"
        },
        "id": "U1NfBYIvrLV9",
        "outputId": "215616b5-a5e8-4518-e91d-1a23a5b1ff28"
      },
      "execution_count": null,
      "outputs": [
        {
          "output_type": "execute_result",
          "data": {
            "text/plain": [
              "7"
            ]
          },
          "metadata": {},
          "execution_count": 36
        }
      ]
    },
    {
      "cell_type": "code",
      "source": [
        "5-2"
      ],
      "metadata": {
        "colab": {
          "base_uri": "https://localhost:8080/"
        },
        "id": "1BU-wf-FrVf4",
        "outputId": "0fce9855-42ea-4938-aa8f-e2e644b95124"
      },
      "execution_count": null,
      "outputs": [
        {
          "output_type": "execute_result",
          "data": {
            "text/plain": [
              "3"
            ]
          },
          "metadata": {},
          "execution_count": 37
        }
      ]
    },
    {
      "cell_type": "code",
      "source": [
        "2**2"
      ],
      "metadata": {
        "colab": {
          "base_uri": "https://localhost:8080/"
        },
        "id": "9ocvGHbYrWKR",
        "outputId": "a643856e-b368-404d-c89d-49191c262b59"
      },
      "execution_count": null,
      "outputs": [
        {
          "output_type": "execute_result",
          "data": {
            "text/plain": [
              "4"
            ]
          },
          "metadata": {},
          "execution_count": 38
        }
      ]
    },
    {
      "cell_type": "code",
      "source": [
        "5//2"
      ],
      "metadata": {
        "colab": {
          "base_uri": "https://localhost:8080/"
        },
        "id": "gp93XNIKrY--",
        "outputId": "6be5282a-1767-470c-f040-250ecc77f63f"
      },
      "execution_count": null,
      "outputs": [
        {
          "output_type": "execute_result",
          "data": {
            "text/plain": [
              "2"
            ]
          },
          "metadata": {},
          "execution_count": 39
        }
      ]
    },
    {
      "cell_type": "code",
      "source": [
        "5/2"
      ],
      "metadata": {
        "colab": {
          "base_uri": "https://localhost:8080/"
        },
        "id": "td4KuhdcEUZ1",
        "outputId": "16a6855e-dd2b-497a-a5d1-9222be19dc9b"
      },
      "execution_count": null,
      "outputs": [
        {
          "output_type": "execute_result",
          "data": {
            "text/plain": [
              "2.5"
            ]
          },
          "metadata": {},
          "execution_count": 40
        }
      ]
    },
    {
      "cell_type": "markdown",
      "source": [
        "Relational/ comparision operator\n",
        "\n",
        ">\n",
        "<\n",
        "<=\n",
        ">= (smaller than equal to)\n",
        "==\n",
        "!="
      ],
      "metadata": {
        "id": "LVVFJg2NrqBO"
      }
    },
    {
      "cell_type": "markdown",
      "source": [
        "Assignment operator\n",
        "\n",
        "1. c+=1 : c=c+1\n",
        "2. c * =1: c=c * 1\n",
        "3. c/=1 : c=c/1\n",
        "\n",
        "\n",
        "\n"
      ],
      "metadata": {
        "id": "P2znk7CGr_G2"
      }
    },
    {
      "cell_type": "markdown",
      "source": [
        "Logical operator\n",
        "1. And\n",
        "2. or\n",
        "3. not"
      ],
      "metadata": {
        "id": "4LhGE6l8EyiC"
      }
    },
    {
      "cell_type": "code",
      "source": [
        "a = [1,2,3]\n",
        "print(1 not in a)"
      ],
      "metadata": {
        "colab": {
          "base_uri": "https://localhost:8080/"
        },
        "id": "4I2Zass9Epgs",
        "outputId": "923b91b7-72a1-4746-e7f4-c8651a6e360f"
      },
      "execution_count": null,
      "outputs": [
        {
          "output_type": "stream",
          "name": "stdout",
          "text": [
            "False\n"
          ]
        }
      ]
    },
    {
      "cell_type": "code",
      "source": [
        "a = [1,2,3]\n",
        "print(1 in a)"
      ],
      "metadata": {
        "colab": {
          "base_uri": "https://localhost:8080/"
        },
        "id": "X0FAKTaFEpdn",
        "outputId": "a5180ea4-69d6-445a-a397-d596f58e3406"
      },
      "execution_count": null,
      "outputs": [
        {
          "output_type": "stream",
          "name": "stdout",
          "text": [
            "True\n"
          ]
        }
      ]
    },
    {
      "cell_type": "markdown",
      "source": [
        "Control statements\n",
        "1. loop condition - for,whike\n",
        "2. Conditional statement- if ,elif, else\n"
      ],
      "metadata": {
        "id": "AWfO_PiPFN5j"
      }
    },
    {
      "cell_type": "code",
      "source": [
        "2%2==0"
      ],
      "metadata": {
        "colab": {
          "base_uri": "https://localhost:8080/"
        },
        "id": "wX-9Qxn9EpUm",
        "outputId": "2a49492e-c29f-4606-9cae-54177853f769"
      },
      "execution_count": null,
      "outputs": [
        {
          "output_type": "execute_result",
          "data": {
            "text/plain": [
              "True"
            ]
          },
          "metadata": {},
          "execution_count": 43
        }
      ]
    },
    {
      "cell_type": "code",
      "source": [
        "num = int(input(\"enter the number:\"))\n",
        "if num%2==0:\n",
        "  print(\"The number is even\")\n",
        "elif num%3==0:\n",
        "  print(\"the number is diivsble by 3\")\n",
        "else:\n",
        "  print(\"The number is odd\")"
      ],
      "metadata": {
        "colab": {
          "base_uri": "https://localhost:8080/"
        },
        "id": "EcRD5tz3EpRL",
        "outputId": "a3cd6047-b52d-4fcb-acf6-a01e6dbccd81"
      },
      "execution_count": null,
      "outputs": [
        {
          "output_type": "stream",
          "name": "stdout",
          "text": [
            "enter the number:9\n",
            "the number is diivsble by 3\n"
          ]
        }
      ]
    },
    {
      "cell_type": "code",
      "source": [
        "for i in range(1,22):\n",
        "  if i%2==0:\n",
        "    print(i)"
      ],
      "metadata": {
        "colab": {
          "base_uri": "https://localhost:8080/"
        },
        "id": "T-eiGBQtEpO2",
        "outputId": "77c14e0c-e99a-4594-83ee-e251dff677db"
      },
      "execution_count": null,
      "outputs": [
        {
          "output_type": "stream",
          "name": "stdout",
          "text": [
            "2\n",
            "4\n",
            "6\n",
            "8\n",
            "10\n",
            "12\n",
            "14\n",
            "16\n",
            "18\n",
            "20\n"
          ]
        }
      ]
    },
    {
      "cell_type": "code",
      "source": [
        "for i in range(1,22):\n",
        "  print(i)"
      ],
      "metadata": {
        "colab": {
          "base_uri": "https://localhost:8080/"
        },
        "id": "EvM9HejkEpLv",
        "outputId": "3ca9acfc-6dc5-4c0b-b0c1-d9848c56b490"
      },
      "execution_count": null,
      "outputs": [
        {
          "output_type": "stream",
          "name": "stdout",
          "text": [
            "1\n",
            "2\n",
            "3\n",
            "4\n",
            "5\n",
            "6\n",
            "7\n",
            "8\n",
            "9\n",
            "10\n",
            "11\n",
            "12\n",
            "13\n",
            "14\n",
            "15\n",
            "16\n",
            "17\n",
            "18\n",
            "19\n",
            "20\n",
            "21\n"
          ]
        }
      ]
    },
    {
      "cell_type": "code",
      "source": [
        "a=1\n",
        "while a<20:\n",
        "  if a%2==0:\n",
        "    print(a)\n",
        "  a+=1"
      ],
      "metadata": {
        "colab": {
          "base_uri": "https://localhost:8080/"
        },
        "id": "o_UtailyEpI7",
        "outputId": "76f7356f-ea50-44f8-a2d9-dcab3956fe71"
      },
      "execution_count": null,
      "outputs": [
        {
          "output_type": "stream",
          "name": "stdout",
          "text": [
            "2\n",
            "4\n",
            "6\n",
            "8\n",
            "10\n",
            "12\n",
            "14\n",
            "16\n",
            "18\n"
          ]
        }
      ]
    },
    {
      "cell_type": "code",
      "source": [
        "a=1\n",
        "while a<=20:\n",
        "  if a%2==0:\n",
        "    print(a)\n",
        "  a+=1"
      ],
      "metadata": {
        "colab": {
          "base_uri": "https://localhost:8080/"
        },
        "id": "OueKwn76EpGL",
        "outputId": "b5de6c70-7848-4569-f012-b83620468d70"
      },
      "execution_count": null,
      "outputs": [
        {
          "output_type": "stream",
          "name": "stdout",
          "text": [
            "2\n",
            "4\n",
            "6\n",
            "8\n",
            "10\n",
            "12\n",
            "14\n",
            "16\n",
            "18\n",
            "20\n"
          ]
        }
      ]
    },
    {
      "cell_type": "code",
      "source": [
        "a = int(input(\"enter 1st number:\"))\n",
        "b = int(input(\"enter second number:\"))\n",
        "c = int(input(\"Enter 3rd number:\"))\n",
        "\n",
        "if (a>b and a<c) or (a<b and a>c):\n",
        "  print(\"MiddleNumber=\",a)\n",
        "elif (b>a and b<c) or (b<a and b>c):\n",
        "  print(\"Middle number=\",b)\n",
        "else:\n",
        "  print(\"middle number=\",c)"
      ],
      "metadata": {
        "id": "sqZzdLmUrbV_",
        "colab": {
          "base_uri": "https://localhost:8080/"
        },
        "outputId": "041a36de-f823-465b-cb69-9490462ae2bc"
      },
      "execution_count": null,
      "outputs": [
        {
          "output_type": "stream",
          "name": "stdout",
          "text": [
            "enter 1st number:7\n",
            "enter second number:122\n",
            "Enter 3rd number:1\n",
            "MiddleNumber= 7\n"
          ]
        }
      ]
    },
    {
      "cell_type": "markdown",
      "source": [
        "*\n",
        "**\n",
        "***\n",
        "****\n",
        "*****\n",
        "\n",
        "The number of line is 5 , so n+1 i.e 6 will be taken as range"
      ],
      "metadata": {
        "id": "vZGAg1KbVBVb"
      }
    },
    {
      "cell_type": "code",
      "source": [
        "for i in range(1,6):\n",
        "  print(\"*\"*i)"
      ],
      "metadata": {
        "colab": {
          "base_uri": "https://localhost:8080/"
        },
        "id": "E9fqWlflU8Vp",
        "outputId": "f9c7b6e7-6de4-4248-9835-cf58ba2b8d04"
      },
      "execution_count": null,
      "outputs": [
        {
          "output_type": "stream",
          "name": "stdout",
          "text": [
            "*\n",
            "**\n",
            "***\n",
            "****\n",
            "*****\n"
          ]
        }
      ]
    },
    {
      "cell_type": "markdown",
      "source": [
        "FUNCTION\n",
        "\n",
        "If we write 100 lines of code and use it again again we use function\n",
        "\n",
        "def- defination\n",
        "additon- function name\n",
        "a,b- argument"
      ],
      "metadata": {
        "id": "Hm0zxBeOVrid"
      }
    },
    {
      "cell_type": "code",
      "source": [
        "def addition(a,b):\n",
        "  c= a+b\n",
        "  return c"
      ],
      "metadata": {
        "id": "g7q7dvp6U8SE"
      },
      "execution_count": null,
      "outputs": []
    },
    {
      "cell_type": "code",
      "source": [
        "addition(5,6)"
      ],
      "metadata": {
        "colab": {
          "base_uri": "https://localhost:8080/"
        },
        "id": "X8D_hRyRU8MH",
        "outputId": "7c978d27-0ad0-4ba2-9064-87b8da46bcd3"
      },
      "execution_count": null,
      "outputs": [
        {
          "output_type": "execute_result",
          "data": {
            "text/plain": [
              "11"
            ]
          },
          "metadata": {},
          "execution_count": 64
        }
      ]
    },
    {
      "cell_type": "markdown",
      "source": [
        "Default Argument"
      ],
      "metadata": {
        "id": "flvgTBM71mvY"
      }
    },
    {
      "cell_type": "code",
      "source": [
        "def add(a,b=2):\n",
        "  c=a+b\n",
        "  return c"
      ],
      "metadata": {
        "id": "pBNN6DDoU8Oo"
      },
      "execution_count": null,
      "outputs": []
    },
    {
      "cell_type": "code",
      "source": [
        "add(5,6)"
      ],
      "metadata": {
        "colab": {
          "base_uri": "https://localhost:8080/"
        },
        "id": "gSg_szhLU8Jj",
        "outputId": "95654c58-0d0f-4b71-eefb-ec8e3c86652a"
      },
      "execution_count": null,
      "outputs": [
        {
          "output_type": "execute_result",
          "data": {
            "text/plain": [
              "11"
            ]
          },
          "metadata": {},
          "execution_count": 67
        }
      ]
    },
    {
      "cell_type": "code",
      "source": [
        "def find_middle_number(a,b,c):\n",
        "  if (a>b and a<c) or (a<b and a>c):\n",
        "    print(\"MiddleNumber=\",a)\n",
        "  elif (b>a and b<c) or (b<a and b>c):\n",
        "      print(\"Middle number=\",b)\n",
        "  else:\n",
        "        print(\"middle number=\",c)"
      ],
      "metadata": {
        "id": "DfBzkEsKU8HO"
      },
      "execution_count": null,
      "outputs": []
    },
    {
      "cell_type": "code",
      "source": [
        "a = int(input(\"enter 1st number:\"))\n",
        "b = int(input(\"enter second number:\"))\n",
        "c = int(input(\"Enter 3rd number:\"))\n",
        "find_middle_number(a,b,c)"
      ],
      "metadata": {
        "colab": {
          "base_uri": "https://localhost:8080/"
        },
        "id": "R7KqlykZU8El",
        "outputId": "5a918ecc-fbac-47e3-e9d4-f46ef6a20ef4"
      },
      "execution_count": null,
      "outputs": [
        {
          "output_type": "stream",
          "name": "stdout",
          "text": [
            "enter 1st number:23\n",
            "enter second number:23\n",
            "Enter 3rd number:23\n",
            "middle number= 23\n"
          ]
        }
      ]
    },
    {
      "cell_type": "markdown",
      "source": [
        "Return and print\n",
        "The `return` statement is used to exit a function and send a value back to the caller. The `print()` function prints the value of its argument to the console.\n",
        "Here is an example of the difference between the two statements:\n",
        "def my_function(x):\n",
        "  if x == 0:\n",
        "    return 0\n",
        "  else:\n",
        "    return x + my_function(x - 1)\n",
        "print(my_function(5))\n",
        "\n",
        "In this example, the `return` statement is used to exit the function and send the value `5` back to the caller. The `print()` function is then used to print the value `5` to the console.\n"
      ],
      "metadata": {
        "id": "6gcRtAGm3xra"
      }
    },
    {
      "cell_type": "code",
      "source": [
        "def even(a,b):\n",
        "  for i in range(a,b):\n",
        "    if i%2==0:\n",
        "      print(i)\n",
        "even(1,22)"
      ],
      "metadata": {
        "colab": {
          "base_uri": "https://localhost:8080/"
        },
        "id": "-DCDKprjU8CF",
        "outputId": "a50a6117-7a49-4f68-93de-a42a5633266a"
      },
      "execution_count": null,
      "outputs": [
        {
          "output_type": "stream",
          "name": "stdout",
          "text": [
            "2\n",
            "4\n",
            "6\n",
            "8\n",
            "10\n",
            "12\n",
            "14\n",
            "16\n",
            "18\n",
            "20\n"
          ]
        }
      ]
    },
    {
      "cell_type": "code",
      "source": [
        "def even(a,b):\n",
        "  for i in range(a,b):\n",
        "    if i%2==0:\n",
        "      return i\n",
        "even(1,22)"
      ],
      "metadata": {
        "colab": {
          "base_uri": "https://localhost:8080/"
        },
        "id": "89VI1CHYU7_X",
        "outputId": "9938a4f2-a1e0-4a12-92e1-c243d974c4e9"
      },
      "execution_count": null,
      "outputs": [
        {
          "output_type": "execute_result",
          "data": {
            "text/plain": [
              "2"
            ]
          },
          "metadata": {},
          "execution_count": 10
        }
      ]
    },
    {
      "cell_type": "code",
      "source": [],
      "metadata": {
        "id": "cBW5rh_YSzc6"
      },
      "execution_count": null,
      "outputs": []
    }
  ]
}